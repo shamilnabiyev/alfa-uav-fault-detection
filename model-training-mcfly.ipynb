{
 "cells": [
  {
   "cell_type": "markdown",
   "id": "2ff180a3",
   "metadata": {},
   "source": [
    "# Model training using Mcfly AutoML"
   ]
  },
  {
   "cell_type": "markdown",
   "id": "0335c5de",
   "metadata": {},
   "source": [
    "## Loading the dataset"
   ]
  },
  {
   "cell_type": "code",
   "execution_count": 41,
   "id": "db0e4bac",
   "metadata": {},
   "outputs": [],
   "source": [
    "import os\n",
    "import sys\n",
    "import json\n",
    "# import mlflow\n",
    "import warnings\n",
    "import numpy as np\n",
    "import pandas as pd\n",
    "from datetime import timedelta\n",
    "from sktime.datatypes import convert_to\n",
    "from timeit import default_timer as timer\n",
    "from sktime.datasets import load_from_tsfile\n",
    "from sklearn.utils import shuffle\n",
    "from sklearn.utils.class_weight import compute_class_weight\n",
    "from sklearn.preprocessing import OneHotEncoder\n",
    "from sklearn.model_selection import train_test_split\n",
    "from sktime.datasets import load_from_tsfile_to_dataframe\n",
    "from mcfly.modelgen import generate_models\n",
    "from mcfly.find_architecture import find_best_architecture\n",
    "from mcfly.find_architecture import train_models_on_samples\n",
    "from tensorflow.keras.metrics import AUC\n",
    "\n",
    "warnings.filterwarnings('ignore')\n",
    "np.random.seed(42)"
   ]
  },
  {
   "cell_type": "code",
   "execution_count": 14,
   "id": "c94d044f",
   "metadata": {},
   "outputs": [
    {
     "data": {
      "text/plain": [
       "((2792, 17, 40), (2792,))"
      ]
     },
     "execution_count": 14,
     "metadata": {},
     "output_type": "execute_result"
    }
   ],
   "source": [
    "X, y = load_from_tsfile(\"data/alfa-uav-fault-detection.ts\", return_y=True, return_data_type=\"numpy3D\")\n",
    "\n",
    "X.shape, y.shape"
   ]
  },
  {
   "cell_type": "code",
   "execution_count": 15,
   "id": "d6f65168",
   "metadata": {},
   "outputs": [
    {
     "data": {
      "text/plain": [
       "(2792, 40, 17)"
      ]
     },
     "execution_count": 15,
     "metadata": {},
     "output_type": "execute_result"
    }
   ],
   "source": [
    "X = np.swapaxes(X, 1, 2)\n",
    "X.shape"
   ]
  },
  {
   "cell_type": "code",
   "execution_count": 16,
   "id": "671f329b",
   "metadata": {},
   "outputs": [
    {
     "data": {
      "text/plain": [
       "(2792, 2)"
      ]
     },
     "execution_count": 16,
     "metadata": {},
     "output_type": "execute_result"
    }
   ],
   "source": [
    "ohe = OneHotEncoder()\n",
    "\n",
    "y = ohe.fit_transform(y.reshape(-1, 1)).toarray()\n",
    "y.shape"
   ]
  },
  {
   "cell_type": "code",
   "execution_count": 18,
   "id": "d69c51f4",
   "metadata": {},
   "outputs": [
    {
     "data": {
      "text/plain": [
       "((2792, 40, 17), (2792, 2))"
      ]
     },
     "execution_count": 18,
     "metadata": {},
     "output_type": "execute_result"
    }
   ],
   "source": [
    "X, y = shuffle(X, y, random_state=42)\n",
    "X.shape, y.shape"
   ]
  },
  {
   "cell_type": "markdown",
   "id": "f2726efe",
   "metadata": {},
   "source": [
    "### Splitting into training, validation and test datasets"
   ]
  },
  {
   "cell_type": "code",
   "execution_count": 22,
   "id": "c1e02ade",
   "metadata": {},
   "outputs": [
    {
     "name": "stdout",
     "output_type": "stream",
     "text": [
      "(1786, 40, 17) (447, 40, 17) (559, 40, 17)\n",
      "(1786, 2) (447, 2) (559, 2)\n"
     ]
    }
   ],
   "source": [
    "X_train, X_test, y_train, y_test = train_test_split(X, y, \n",
    "                                                    test_size=0.20, random_state=42, \n",
    "                                                    shuffle=True, stratify=y)\n",
    "X_train, X_val, y_train, y_val = train_test_split(X_train, y_train, \n",
    "                                                  test_size=0.20, random_state=42, \n",
    "                                                  shuffle=True, stratify=y_train)\n",
    "\n",
    "print(X_train.shape, X_val.shape, X_test.shape)\n",
    "print(y_train.shape, y_val.shape, y_test.shape)"
   ]
  },
  {
   "cell_type": "markdown",
   "id": "bf5f2341",
   "metadata": {},
   "source": [
    "## Model training"
   ]
  },
  {
   "cell_type": "markdown",
   "id": "4c597d21",
   "metadata": {},
   "source": [
    "### Calculating class weights"
   ]
  },
  {
   "cell_type": "code",
   "execution_count": 42,
   "id": "be584d30",
   "metadata": {},
   "outputs": [
    {
     "data": {
      "text/plain": [
       "{0: 0.5377503852080123, 1: 7.122448979591836}"
      ]
     },
     "execution_count": 42,
     "metadata": {},
     "output_type": "execute_result"
    }
   ],
   "source": [
    "class_weights = compute_class_weight(\n",
    "    class_weight = \"balanced\",\n",
    "    classes = np.unique(np.argmax(y, axis=1)),\n",
    "    y = np.argmax(y, axis=1)                                                    \n",
    ")\n",
    "\n",
    "class_weights = dict(zip(np.unique(np.argmax(y, axis=1)), class_weights))\n",
    "class_weights"
   ]
  },
  {
   "cell_type": "markdown",
   "id": "9dda3ef5",
   "metadata": {},
   "source": [
    "### Training classification models"
   ]
  },
  {
   "cell_type": "code",
   "execution_count": 43,
   "id": "dea3a3a3",
   "metadata": {
    "scrolled": false
   },
   "outputs": [
    {
     "name": "stdout",
     "output_type": "stream",
     "text": [
      "Set maximum kernel size for InceptionTime models to number of timesteps.\n",
      "Generated models will be trained on subset of the data (subset size: 1786).\n",
      "Training model 0 CNN\n",
      "Epoch 1/30\n",
      "90/90 [==============================] - 6s 36ms/step - loss: 1.5878 - pr_auc: 0.6675 - val_loss: 2.0570 - val_pr_auc: 0.4055\n",
      "Epoch 2/30\n",
      "90/90 [==============================] - 2s 25ms/step - loss: 1.4203 - pr_auc: 0.7953 - val_loss: 1.8238 - val_pr_auc: 0.4837\n",
      "Epoch 3/30\n",
      "90/90 [==============================] - 2s 24ms/step - loss: 1.3231 - pr_auc: 0.8721 - val_loss: 1.7264 - val_pr_auc: 0.5153\n",
      "Epoch 4/30\n",
      "90/90 [==============================] - 2s 25ms/step - loss: 1.2379 - pr_auc: 0.9291 - val_loss: 1.6597 - val_pr_auc: 0.5228\n",
      "Epoch 5/30\n",
      "90/90 [==============================] - 2s 25ms/step - loss: 1.1633 - pr_auc: 0.9647 - val_loss: 1.5709 - val_pr_auc: 0.6078\n",
      "Epoch 6/30\n",
      "90/90 [==============================] - 2s 25ms/step - loss: 1.0994 - pr_auc: 0.9649 - val_loss: 1.4245 - val_pr_auc: 0.7968\n",
      "Epoch 7/30\n",
      "90/90 [==============================] - 2s 25ms/step - loss: 1.0391 - pr_auc: 0.9706 - val_loss: 1.3825 - val_pr_auc: 0.7870\n",
      "Epoch 8/30\n",
      "90/90 [==============================] - 2s 25ms/step - loss: 0.9802 - pr_auc: 0.9828 - val_loss: 1.2567 - val_pr_auc: 0.9099\n",
      "Epoch 9/30\n",
      "90/90 [==============================] - 2s 25ms/step - loss: 0.9268 - pr_auc: 0.9865 - val_loss: 1.1368 - val_pr_auc: 0.9678\n",
      "Epoch 10/30\n",
      "90/90 [==============================] - 2s 25ms/step - loss: 0.8765 - pr_auc: 0.9901 - val_loss: 1.0838 - val_pr_auc: 0.9755\n",
      "Epoch 11/30\n",
      "90/90 [==============================] - 2s 25ms/step - loss: 0.8304 - pr_auc: 0.9943 - val_loss: 0.9793 - val_pr_auc: 0.9867\n",
      "Epoch 12/30\n",
      "90/90 [==============================] - 2s 24ms/step - loss: 0.7877 - pr_auc: 0.9948 - val_loss: 0.9371 - val_pr_auc: 0.9859\n",
      "Epoch 13/30\n",
      "90/90 [==============================] - 2s 25ms/step - loss: 0.7495 - pr_auc: 0.9948 - val_loss: 0.9172 - val_pr_auc: 0.9861\n",
      "Epoch 14/30\n",
      "90/90 [==============================] - 2s 25ms/step - loss: 0.7203 - pr_auc: 0.9817 - val_loss: 0.8693 - val_pr_auc: 0.9796\n",
      "Epoch 15/30\n",
      "90/90 [==============================] - 2s 25ms/step - loss: 0.6931 - pr_auc: 0.9814 - val_loss: 0.8254 - val_pr_auc: 0.9930\n",
      "Epoch 16/30\n",
      "90/90 [==============================] - 2s 25ms/step - loss: 0.6558 - pr_auc: 0.9910 - val_loss: 0.8004 - val_pr_auc: 0.9868\n",
      "Epoch 17/30\n",
      "90/90 [==============================] - 2s 25ms/step - loss: 0.6249 - pr_auc: 0.9977 - val_loss: 0.8192 - val_pr_auc: 0.9860\n",
      "Epoch 18/30\n",
      "90/90 [==============================] - 2s 25ms/step - loss: 0.5964 - pr_auc: 0.9993 - val_loss: 0.7398 - val_pr_auc: 0.9930\n",
      "Epoch 19/30\n",
      "90/90 [==============================] - 2s 25ms/step - loss: 0.5713 - pr_auc: 0.9983 - val_loss: 0.6899 - val_pr_auc: 0.9930\n",
      "Epoch 20/30\n",
      "90/90 [==============================] - 2s 25ms/step - loss: 0.5479 - pr_auc: 0.9998 - val_loss: 0.7053 - val_pr_auc: 0.9862\n",
      "Epoch 21/30\n",
      "90/90 [==============================] - 2s 25ms/step - loss: 0.5258 - pr_auc: 0.9998 - val_loss: 0.6761 - val_pr_auc: 0.9861\n",
      "Epoch 22/30\n",
      "90/90 [==============================] - 2s 25ms/step - loss: 0.5053 - pr_auc: 1.0000 - val_loss: 0.6476 - val_pr_auc: 0.9930\n",
      "Epoch 23/30\n",
      "90/90 [==============================] - 2s 25ms/step - loss: 0.4863 - pr_auc: 1.0000 - val_loss: 0.6191 - val_pr_auc: 0.9862\n",
      "Epoch 24/30\n",
      "90/90 [==============================] - 2s 25ms/step - loss: 0.4689 - pr_auc: 0.9998 - val_loss: 0.5937 - val_pr_auc: 0.9930\n",
      "Epoch 25/30\n",
      "90/90 [==============================] - 2s 26ms/step - loss: 0.4534 - pr_auc: 0.9988 - val_loss: 0.5764 - val_pr_auc: 0.9930\n",
      "Epoch 26/30\n",
      "90/90 [==============================] - 2s 25ms/step - loss: 0.4574 - pr_auc: 0.9752 - val_loss: 0.5003 - val_pr_auc: 0.9765\n",
      "Epoch 27/30\n",
      "90/90 [==============================] - 2s 25ms/step - loss: 0.4576 - pr_auc: 0.9657 - val_loss: 0.5510 - val_pr_auc: 0.9711\n",
      "Epoch 28/30\n",
      "90/90 [==============================] - 2s 25ms/step - loss: 0.4433 - pr_auc: 0.9826 - val_loss: 0.5553 - val_pr_auc: 0.9929\n",
      "Epoch 29/30\n",
      "90/90 [==============================] - 2s 25ms/step - loss: 0.4238 - pr_auc: 0.9869 - val_loss: 0.5168 - val_pr_auc: 1.0000\n",
      "Epoch 29: early stopping\n",
      "Training model 1 ResNet\n",
      "Epoch 1/30\n",
      "90/90 [==============================] - 8s 54ms/step - loss: 0.4091 - pr_auc: 0.9041 - val_loss: 1.0504 - val_pr_auc: 0.8983\n",
      "Epoch 2/30\n",
      "90/90 [==============================] - 3s 31ms/step - loss: 0.1536 - pr_auc: 0.9802 - val_loss: 0.4068 - val_pr_auc: 0.9625\n",
      "Epoch 3/30\n",
      "90/90 [==============================] - 3s 31ms/step - loss: 0.0758 - pr_auc: 0.9935 - val_loss: 0.1996 - val_pr_auc: 0.9818\n",
      "Epoch 4/30\n",
      "90/90 [==============================] - 3s 31ms/step - loss: 0.0408 - pr_auc: 0.9979 - val_loss: 0.0931 - val_pr_auc: 0.9896\n",
      "Epoch 5/30\n",
      "90/90 [==============================] - 3s 31ms/step - loss: 0.1473 - pr_auc: 0.9885 - val_loss: 1.6238 - val_pr_auc: 0.7933\n",
      "Epoch 6/30\n",
      "90/90 [==============================] - 3s 30ms/step - loss: 0.0960 - pr_auc: 0.9910 - val_loss: 0.1109 - val_pr_auc: 0.9873\n",
      "Epoch 7/30\n",
      "90/90 [==============================] - 3s 31ms/step - loss: 0.0310 - pr_auc: 0.9984 - val_loss: 0.0269 - val_pr_auc: 0.9996\n",
      "Epoch 8/30\n",
      "90/90 [==============================] - 3s 31ms/step - loss: 0.0627 - pr_auc: 0.9946 - val_loss: 0.2295 - val_pr_auc: 0.9660\n",
      "Epoch 9/30\n",
      "90/90 [==============================] - 3s 31ms/step - loss: 0.0298 - pr_auc: 0.9986 - val_loss: 0.0827 - val_pr_auc: 0.9931\n",
      "Epoch 10/30\n",
      "90/90 [==============================] - 3s 31ms/step - loss: 0.0274 - pr_auc: 0.9988 - val_loss: 0.1390 - val_pr_auc: 0.9834\n",
      "Epoch 10: early stopping\n",
      "Training model 2 InceptionTime\n",
      "Epoch 1/30\n",
      "90/90 [==============================] - 7s 51ms/step - loss: 0.2668 - pr_auc: 0.9527 - val_loss: 0.3362 - val_pr_auc: 0.9505\n",
      "Epoch 2/30\n",
      "90/90 [==============================] - 3s 31ms/step - loss: 0.0764 - pr_auc: 0.9914 - val_loss: 0.0946 - val_pr_auc: 0.9945\n",
      "Epoch 3/30\n",
      "90/90 [==============================] - 3s 32ms/step - loss: 0.0327 - pr_auc: 0.9988 - val_loss: 0.0105 - val_pr_auc: 1.0000\n",
      "Epoch 4/30\n",
      "90/90 [==============================] - 3s 31ms/step - loss: 0.0096 - pr_auc: 1.0000 - val_loss: 0.0132 - val_pr_auc: 1.0000\n",
      "Epoch 5/30\n",
      "90/90 [==============================] - 3s 31ms/step - loss: 0.0057 - pr_auc: 1.0000 - val_loss: 0.0104 - val_pr_auc: 1.0000\n",
      "Epoch 6/30\n",
      "90/90 [==============================] - 3s 31ms/step - loss: 0.0022 - pr_auc: 1.0000 - val_loss: 0.0040 - val_pr_auc: 1.0000\n",
      "Epoch 7/30\n",
      "90/90 [==============================] - 3s 32ms/step - loss: 0.0015 - pr_auc: 1.0000 - val_loss: 0.0019 - val_pr_auc: 1.0000\n",
      "Epoch 8/30\n",
      "90/90 [==============================] - 3s 32ms/step - loss: 0.0010 - pr_auc: 1.0000 - val_loss: 0.0018 - val_pr_auc: 1.0000\n",
      "Epoch 9/30\n",
      "90/90 [==============================] - 3s 31ms/step - loss: 7.5471e-04 - pr_auc: 1.0000 - val_loss: 0.0016 - val_pr_auc: 1.0000\n",
      "Epoch 10/30\n",
      "90/90 [==============================] - 3s 31ms/step - loss: 5.8814e-04 - pr_auc: 1.0000 - val_loss: 0.0014 - val_pr_auc: 1.0000\n",
      "Epoch 11/30\n",
      "90/90 [==============================] - 3s 32ms/step - loss: 4.7649e-04 - pr_auc: 1.0000 - val_loss: 0.0011 - val_pr_auc: 1.0000\n",
      "Epoch 12/30\n",
      "90/90 [==============================] - 3s 32ms/step - loss: 3.9485e-04 - pr_auc: 1.0000 - val_loss: 9.5331e-04 - val_pr_auc: 1.0000\n",
      "Epoch 13/30\n",
      "90/90 [==============================] - 3s 31ms/step - loss: 3.3299e-04 - pr_auc: 1.0000 - val_loss: 7.9886e-04 - val_pr_auc: 1.0000\n",
      "Epoch 14/30\n",
      "90/90 [==============================] - 3s 32ms/step - loss: 2.8486e-04 - pr_auc: 1.0000 - val_loss: 6.6988e-04 - val_pr_auc: 1.0000\n",
      "Epoch 15/30\n",
      "90/90 [==============================] - 3s 31ms/step - loss: 2.4655e-04 - pr_auc: 1.0000 - val_loss: 5.6703e-04 - val_pr_auc: 1.0000\n",
      "Epoch 16/30\n",
      "90/90 [==============================] - 3s 31ms/step - loss: 2.1552e-04 - pr_auc: 1.0000 - val_loss: 4.8276e-04 - val_pr_auc: 1.0000\n",
      "Epoch 17/30\n",
      "90/90 [==============================] - 3s 32ms/step - loss: 1.9003e-04 - pr_auc: 1.0000 - val_loss: 4.1418e-04 - val_pr_auc: 1.0000\n",
      "Epoch 18/30\n",
      "90/90 [==============================] - 3s 32ms/step - loss: 1.6875e-04 - pr_auc: 1.0000 - val_loss: 3.5875e-04 - val_pr_auc: 1.0000\n",
      "Epoch 19/30\n"
     ]
    },
    {
     "name": "stdout",
     "output_type": "stream",
     "text": [
      "90/90 [==============================] - 3s 31ms/step - loss: 1.5081e-04 - pr_auc: 1.0000 - val_loss: 3.1383e-04 - val_pr_auc: 1.0000\n",
      "Epoch 20/30\n",
      "90/90 [==============================] - 3s 31ms/step - loss: 1.3553e-04 - pr_auc: 1.0000 - val_loss: 2.7695e-04 - val_pr_auc: 1.0000\n",
      "Epoch 21/30\n",
      "90/90 [==============================] - 3s 31ms/step - loss: 1.2240e-04 - pr_auc: 1.0000 - val_loss: 2.4531e-04 - val_pr_auc: 1.0000\n",
      "Epoch 22/30\n",
      "90/90 [==============================] - 3s 31ms/step - loss: 1.1103e-04 - pr_auc: 1.0000 - val_loss: 2.1845e-04 - val_pr_auc: 1.0000\n",
      "Epoch 23/30\n",
      "90/90 [==============================] - 3s 31ms/step - loss: 1.0112e-04 - pr_auc: 1.0000 - val_loss: 1.9575e-04 - val_pr_auc: 1.0000\n",
      "Epoch 24/30\n",
      "90/90 [==============================] - 3s 31ms/step - loss: 9.2424e-05 - pr_auc: 1.0000 - val_loss: 1.7598e-04 - val_pr_auc: 1.0000\n",
      "Epoch 25/30\n",
      "90/90 [==============================] - 3s 31ms/step - loss: 8.4739e-05 - pr_auc: 1.0000 - val_loss: 1.5889e-04 - val_pr_auc: 1.0000\n",
      "Epoch 26/30\n",
      "90/90 [==============================] - 3s 31ms/step - loss: 7.7910e-05 - pr_auc: 1.0000 - val_loss: 1.4376e-04 - val_pr_auc: 1.0000\n",
      "Epoch 27/30\n",
      "90/90 [==============================] - 3s 31ms/step - loss: 7.1814e-05 - pr_auc: 1.0000 - val_loss: 1.3056e-04 - val_pr_auc: 1.0000\n",
      "Epoch 28/30\n",
      "90/90 [==============================] - 3s 31ms/step - loss: 6.6356e-05 - pr_auc: 1.0000 - val_loss: 1.1915e-04 - val_pr_auc: 1.0000\n",
      "Epoch 29/30\n",
      "90/90 [==============================] - 3s 31ms/step - loss: 6.1440e-05 - pr_auc: 1.0000 - val_loss: 1.0898e-04 - val_pr_auc: 1.0000\n",
      "Epoch 30/30\n",
      "90/90 [==============================] - 3s 31ms/step - loss: 5.7003e-05 - pr_auc: 1.0000 - val_loss: 9.9877e-05 - val_pr_auc: 1.0000\n",
      "Wall time: 3min 13s\n"
     ]
    }
   ],
   "source": [
    "%%time\n",
    "\n",
    "file_name = f\"model-comparison-20220808.json\"\n",
    "output_file = os.path.join(\"data/models\", file_name)\n",
    "model_path = os.path.join(\"data/models\")\n",
    "\n",
    "pr_auc = AUC(\n",
    "    curve=\"PR\",\n",
    "    name=\"pr_auc\",\n",
    ")\n",
    "\n",
    "models = generate_models(\n",
    "    X_train.shape, \n",
    "    y_train.shape[1],\n",
    "    number_of_models=3,\n",
    "    model_types=['CNN', 'ResNet', 'InceptionTime'],\n",
    "    metrics=[pr_auc]\n",
    ")\n",
    "\n",
    "history, val_metrics, val_losses = train_models_on_samples(\n",
    "    X_train=X_train,\n",
    "    y_train=y_train,\n",
    "    X_val=X_val,\n",
    "    y_val=y_val,\n",
    "    models=models,\n",
    "    nr_epochs=30,\n",
    "    verbose=True,\n",
    "    model_path=model_path,\n",
    "    outputfile=output_file,\n",
    "    subset_size=X_train.shape[0],\n",
    "    class_weight=class_weights\n",
    ")"
   ]
  },
  {
   "cell_type": "code",
   "execution_count": 46,
   "id": "430ff008",
   "metadata": {},
   "outputs": [
    {
     "name": "stdout",
     "output_type": "stream",
     "text": [
      "Best model type: InceptionTime\n"
     ]
    }
   ],
   "source": [
    "best_model_index = np.argmax(val_metrics[\"pr_auc\"])\n",
    "best_model, best_params, best_model_type = models[best_model_index]\n",
    "\n",
    "print(\"Best model type:\", best_model_type)"
   ]
  },
  {
   "cell_type": "code",
   "execution_count": null,
   "id": "68627821",
   "metadata": {},
   "outputs": [],
   "source": []
  }
 ],
 "metadata": {
  "kernelspec": {
   "display_name": "Python 3 (ipykernel)",
   "language": "python",
   "name": "python3"
  },
  "language_info": {
   "codemirror_mode": {
    "name": "ipython",
    "version": 3
   },
   "file_extension": ".py",
   "mimetype": "text/x-python",
   "name": "python",
   "nbconvert_exporter": "python",
   "pygments_lexer": "ipython3",
   "version": "3.7.9"
  }
 },
 "nbformat": 4,
 "nbformat_minor": 5
}
