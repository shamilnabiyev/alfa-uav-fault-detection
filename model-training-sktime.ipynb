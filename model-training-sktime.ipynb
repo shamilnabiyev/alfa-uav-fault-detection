{
 "cells": [
  {
   "cell_type": "markdown",
   "id": "26d050a5",
   "metadata": {},
   "source": [
    "## Model training using the sktime library"
   ]
  },
  {
   "cell_type": "code",
   "execution_count": 1,
   "id": "ae8ff38e",
   "metadata": {},
   "outputs": [],
   "source": [
    "import os\n",
    "import sys\n",
    "import json\n",
    "import shap\n",
    "import warnings\n",
    "import numpy as np\n",
    "import pandas as pd\n",
    "import matplotlib.pyplot as plt\n",
    "from datetime import timedelta\n",
    "from timeit import default_timer as timer\n",
    "\n",
    "from sklearn.utils import shuffle\n",
    "from sklearn.utils.class_weight import compute_class_weight\n",
    "from sklearn.preprocessing import OneHotEncoder\n",
    "from sklearn.model_selection import train_test_split\n",
    "from sklearn.metrics import classification_report\n",
    "\n",
    "from sktime.datatypes import convert_to\n",
    "from sktime.datasets import load_from_tsfile\n",
    "from sktime.classification.compose import ColumnEnsembleClassifier\n",
    "from sktime.classification.interval_based import TimeSeriesForestClassifier\n",
    "from sktime.classification.interval_based import SupervisedTimeSeriesForest\n",
    "from sktime.classification.distance_based import ProximityForest\n",
    "\n",
    "SEED=42\n",
    "warnings.filterwarnings('ignore')\n",
    "np.random.seed(42)"
   ]
  },
  {
   "cell_type": "markdown",
   "id": "a8232e66",
   "metadata": {},
   "source": [
    "## Data preparation"
   ]
  },
  {
   "cell_type": "code",
   "execution_count": 2,
   "id": "1e92ed44",
   "metadata": {},
   "outputs": [
    {
     "data": {
      "text/plain": [
       "((2792, 17, 40), (2792,))"
      ]
     },
     "execution_count": 2,
     "metadata": {},
     "output_type": "execute_result"
    }
   ],
   "source": [
    "X, y = load_from_tsfile(\"data/alfa-uav-fault-detection.ts\", return_y=True, return_data_type=\"numpy3D\")\n",
    "\n",
    "X.shape, y.shape"
   ]
  },
  {
   "cell_type": "code",
   "execution_count": 3,
   "id": "5389d64f",
   "metadata": {},
   "outputs": [
    {
     "data": {
      "text/plain": [
       "((2792, 17, 40), (2792,))"
      ]
     },
     "execution_count": 3,
     "metadata": {},
     "output_type": "execute_result"
    }
   ],
   "source": [
    "X, y = shuffle(X, y, random_state=SEED)\n",
    "X.shape, y.shape"
   ]
  },
  {
   "cell_type": "code",
   "execution_count": 4,
   "id": "f5e3fec4",
   "metadata": {
    "scrolled": true
   },
   "outputs": [
    {
     "name": "stdout",
     "output_type": "stream",
     "text": [
      "(2233, 17, 40) (2233,)\n",
      "(559, 17, 40) (559,)\n"
     ]
    }
   ],
   "source": [
    "X_train, X_test, y_train, y_test = train_test_split(X, y, \n",
    "                                                    test_size=0.20, random_state=SEED, \n",
    "                                                    shuffle=True, stratify=y)\n",
    "\n",
    "print(X_train.shape, y_train.shape)\n",
    "print(X_test.shape, y_test.shape)"
   ]
  },
  {
   "cell_type": "markdown",
   "id": "743bf35e",
   "metadata": {},
   "source": [
    "## SupervisedTimeSeriesForest model training "
   ]
  },
  {
   "cell_type": "code",
   "execution_count": null,
   "id": "b8452252",
   "metadata": {},
   "outputs": [],
   "source": [
    "%%time\n",
    "\n",
    "estimators = []\n",
    "\n",
    "for i in list(range(X_train.shape[1])):\n",
    "    estimators.append(\n",
    "        (f\"STSF{i}\", SupervisedTimeSeriesForest(n_estimators=5, n_jobs=4, random_state=SEED), [i])\n",
    "    )\n",
    "\n",
    "clf = ColumnEnsembleClassifier(estimators=estimators)\n",
    "\n",
    "clf = clf.fit(X_train y_train)"
   ]
  },
  {
   "cell_type": "code",
   "execution_count": 52,
   "id": "0d54a7ab",
   "metadata": {},
   "outputs": [
    {
     "name": "stdout",
     "output_type": "stream",
     "text": [
      "Classification report:\n",
      "\n",
      "              precision    recall  f1-score   support\n",
      "\n",
      "           0       0.94      1.00      0.97       520\n",
      "           1       1.00      0.13      0.23        39\n",
      "\n",
      "    accuracy                           0.94       559\n",
      "   macro avg       0.97      0.56      0.60       559\n",
      "weighted avg       0.94      0.94      0.92       559\n",
      "\n",
      "Wall time: 9.79 s\n"
     ]
    }
   ],
   "source": [
    "%%time\n",
    "\n",
    "y_pred = clf.predict(X_test)\n",
    "\n",
    "print(\"Classification report:\\n\")\n",
    "print(classification_report(y_test, y_pred))"
   ]
  }
 ],
 "metadata": {
  "kernelspec": {
   "display_name": "Python 3 (ipykernel)",
   "language": "python",
   "name": "python3"
  },
  "language_info": {
   "codemirror_mode": {
    "name": "ipython",
    "version": 3
   },
   "file_extension": ".py",
   "mimetype": "text/x-python",
   "name": "python",
   "nbconvert_exporter": "python",
   "pygments_lexer": "ipython3",
   "version": "3.7.9"
  }
 },
 "nbformat": 4,
 "nbformat_minor": 5
}
