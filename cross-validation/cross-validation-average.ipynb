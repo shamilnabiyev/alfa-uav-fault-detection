{
 "cells": [
  {
   "cell_type": "code",
   "execution_count": 64,
   "id": "253715fa",
   "metadata": {},
   "outputs": [
    {
     "data": {
      "text/plain": [
       "<Experiment: artifact_location='./mlruns/2', creation_time=1667382175272, experiment_id='2', last_update_time=1667382175272, lifecycle_stage='active', name='cross-validation-average', tags={}>"
      ]
     },
     "execution_count": 64,
     "metadata": {},
     "output_type": "execute_result"
    }
   ],
   "source": [
    "import mlflow\n",
    "import numpy as np\n",
    "from sklearn.ensemble import RandomForestClassifier\n",
    "from sklearn.metrics import precision_recall_fscore_support\n",
    "from sklearn.metrics import accuracy_score\n",
    "from sklearn.metrics import confusion_matrix\n",
    "from sklearn.datasets import load_breast_cancer\n",
    "from sklearn.model_selection import StratifiedKFold\n",
    "from sklearn.ensemble import RandomForestClassifier\n",
    "\n",
    "\n",
    "SEED = 42\n",
    "mlflow.set_tracking_uri(\"http://127.0.0.1:5000\")\n",
    "mlflow.set_experiment(\"cross-validation-average\")"
   ]
  },
  {
   "cell_type": "markdown",
   "id": "d88f2da6",
   "metadata": {},
   "source": [
    "## Data preparation"
   ]
  },
  {
   "cell_type": "code",
   "execution_count": 15,
   "id": "5f497bd2",
   "metadata": {},
   "outputs": [
    {
     "data": {
      "text/plain": [
       "((569, 30), (569,))"
      ]
     },
     "execution_count": 15,
     "metadata": {},
     "output_type": "execute_result"
    }
   ],
   "source": [
    "dataset = load_breast_cancer()\n",
    "X = dataset.data\n",
    "y = dataset.target\n",
    "\n",
    "X.shape, y.shape"
   ]
  },
  {
   "cell_type": "markdown",
   "id": "35b4e68a",
   "metadata": {},
   "source": [
    "## Model training"
   ]
  },
  {
   "cell_type": "code",
   "execution_count": 55,
   "id": "1ce1bf6a",
   "metadata": {},
   "outputs": [
    {
     "name": "stdout",
     "output_type": "stream",
     "text": [
      "test_accuracy: 0.9649122807017544\n",
      "test_accuracy: 0.9385964912280702\n",
      "test_accuracy: 0.956140350877193\n",
      "test_accuracy: 0.9473684210526315\n",
      "test_accuracy: 0.9734513274336283\n"
     ]
    }
   ],
   "source": [
    "skf = StratifiedKFold(n_splits=5, random_state=SEED, shuffle=True)\n",
    "\n",
    "for train_index, test_index in skf.split(X, y):\n",
    "    X_train, X_test = X[train_index], X[test_index]\n",
    "    y_train, y_test = y[train_index], y[test_index]\n",
    "    \n",
    "    with mlflow.start_run():\n",
    "        mlflow.sklearn.autolog(exclusive=False)\n",
    "        model = RandomForestClassifier(random_state=SEED)\n",
    "        model.fit(X_train, y_train)\n",
    "        \n",
    "        y_pred = model.predict(X_test)\n",
    "        mlflow.log_dict({\"y_test\": [int(x) for x in y_test],\n",
    "                         \"y_pred\": [int(x) for x in y_pred]\n",
    "                        }, \"ytest-ypred.json\")\n",
    "        \n",
    "        test_acc = accuracy_score(y_test, y_pred)\n",
    "        mlflow.log_metric(\"test_accuracy\", test_acc)\n",
    "        print(\"test_accuracy:\", test_acc)\n",
    "\n",
    "        test_precision, test_recall, test_f1, _ = precision_recall_fscore_support(\n",
    "            y_test, \n",
    "            y_pred, \n",
    "            average='binary'\n",
    "        )\n",
    "        mlflow.log_metric(\"test_precision\", test_precision)\n",
    "        mlflow.log_metric(\"test_recall\", test_recall)\n",
    "        mlflow.log_metric(\"test_f1_score\", test_f1)\n",
    "        \n",
    "        tn, fp, fn, tp = confusion_matrix(y_test, y_pred).ravel()\n",
    "        mlflow.log_metric(\"tn\", tn)\n",
    "        mlflow.log_metric(\"fp\", fp)\n",
    "        mlflow.log_metric(\"fn\", fn)\n",
    "        mlflow.log_metric(\"tp\", tp)\n",
    "        \n",
    "        tn, fp, fn, tp = confusion_matrix(y_test, y_pred, normalize=\"true\").ravel()\n",
    "        mlflow.log_metric(\"tn_normalized\", tn)\n",
    "        mlflow.log_metric(\"fp_normalized\", fp)\n",
    "        mlflow.log_metric(\"fn_normalized\", fn)\n",
    "        mlflow.log_metric(\"tp_normalized\", tp)\n",
    "        \n",
    "        mlflow.sklearn.autolog(disable=True)"
   ]
  },
  {
   "cell_type": "markdown",
   "id": "0e3cdbed",
   "metadata": {},
   "source": [
    "## Results"
   ]
  },
  {
   "cell_type": "code",
   "execution_count": 56,
   "id": "92af3845",
   "metadata": {},
   "outputs": [
    {
     "data": {
      "text/plain": [
       "Index(['run_id', 'experiment_id', 'status', 'artifact_uri', 'start_time',\n",
       "       'end_time', 'metrics.test_recall', 'metrics.tn', 'metrics.tp',\n",
       "       'metrics.training_precision_score', 'metrics.training_roc_auc_score',\n",
       "       'metrics.test_f1_score', 'metrics.tn_normalized',\n",
       "       'metrics.training_accuracy_score', 'metrics.test_accuracy',\n",
       "       'metrics.test_precision', 'metrics.training_f1_score',\n",
       "       'metrics.training_log_loss', 'metrics.fn_normalized',\n",
       "       'metrics.tp_normalized', 'metrics.training_score', 'metrics.fp',\n",
       "       'metrics.fp_normalized', 'metrics.fn', 'metrics.training_recall_score',\n",
       "       'params.random_state', 'params.verbose', 'params.bootstrap',\n",
       "       'params.criterion', 'params.ccp_alpha', 'params.min_samples_split',\n",
       "       'params.warm_start', 'params.class_weight', 'params.oob_score',\n",
       "       'params.n_estimators', 'params.max_depth', 'params.max_features',\n",
       "       'params.max_samples', 'params.min_weight_fraction_leaf',\n",
       "       'params.max_leaf_nodes', 'params.n_jobs', 'params.min_samples_leaf',\n",
       "       'params.min_impurity_decrease', 'tags.estimator_name',\n",
       "       'tags.mlflow.source.git.commit', 'tags.mlflow.runName',\n",
       "       'tags.mlflow.source.name', 'tags.mlflow.source.type',\n",
       "       'tags.estimator_class', 'tags.mlflow.log-model.history',\n",
       "       'tags.mlflow.user'],\n",
       "      dtype='object')"
      ]
     },
     "execution_count": 56,
     "metadata": {},
     "output_type": "execute_result"
    }
   ],
   "source": [
    "runs = mlflow.search_runs(experiment_ids=[\"2\"])\n",
    "runs.columns"
   ]
  },
  {
   "cell_type": "code",
   "execution_count": 57,
   "id": "82bec34f",
   "metadata": {},
   "outputs": [
    {
     "data": {
      "text/html": [
       "<div>\n",
       "<style scoped>\n",
       "    .dataframe tbody tr th:only-of-type {\n",
       "        vertical-align: middle;\n",
       "    }\n",
       "\n",
       "    .dataframe tbody tr th {\n",
       "        vertical-align: top;\n",
       "    }\n",
       "\n",
       "    .dataframe thead th {\n",
       "        text-align: right;\n",
       "    }\n",
       "</style>\n",
       "<table border=\"1\" class=\"dataframe\">\n",
       "  <thead>\n",
       "    <tr style=\"text-align: right;\">\n",
       "      <th></th>\n",
       "      <th>metrics.tn</th>\n",
       "      <th>metrics.fp</th>\n",
       "      <th>metrics.fn</th>\n",
       "      <th>metrics.tp</th>\n",
       "    </tr>\n",
       "  </thead>\n",
       "  <tbody>\n",
       "    <tr>\n",
       "      <th>0</th>\n",
       "      <td>40.0</td>\n",
       "      <td>2.0</td>\n",
       "      <td>1.0</td>\n",
       "      <td>70.0</td>\n",
       "    </tr>\n",
       "    <tr>\n",
       "      <th>1</th>\n",
       "      <td>42.0</td>\n",
       "      <td>0.0</td>\n",
       "      <td>6.0</td>\n",
       "      <td>66.0</td>\n",
       "    </tr>\n",
       "    <tr>\n",
       "      <th>2</th>\n",
       "      <td>38.0</td>\n",
       "      <td>4.0</td>\n",
       "      <td>1.0</td>\n",
       "      <td>71.0</td>\n",
       "    </tr>\n",
       "    <tr>\n",
       "      <th>3</th>\n",
       "      <td>37.0</td>\n",
       "      <td>6.0</td>\n",
       "      <td>1.0</td>\n",
       "      <td>70.0</td>\n",
       "    </tr>\n",
       "    <tr>\n",
       "      <th>4</th>\n",
       "      <td>42.0</td>\n",
       "      <td>1.0</td>\n",
       "      <td>3.0</td>\n",
       "      <td>68.0</td>\n",
       "    </tr>\n",
       "  </tbody>\n",
       "</table>\n",
       "</div>"
      ],
      "text/plain": [
       "   metrics.tn  metrics.fp  metrics.fn  metrics.tp\n",
       "0        40.0         2.0         1.0        70.0\n",
       "1        42.0         0.0         6.0        66.0\n",
       "2        38.0         4.0         1.0        71.0\n",
       "3        37.0         6.0         1.0        70.0\n",
       "4        42.0         1.0         3.0        68.0"
      ]
     },
     "execution_count": 57,
     "metadata": {},
     "output_type": "execute_result"
    }
   ],
   "source": [
    "runs[['metrics.tn', 'metrics.fp', 'metrics.fn', 'metrics.tp' ]]"
   ]
  },
  {
   "cell_type": "code",
   "execution_count": 58,
   "id": "ad52e8db",
   "metadata": {},
   "outputs": [
    {
     "data": {
      "text/plain": [
       "metrics.tn    39.8\n",
       "metrics.fp     2.6\n",
       "metrics.fn     2.4\n",
       "metrics.tp    69.0\n",
       "dtype: float64"
      ]
     },
     "execution_count": 58,
     "metadata": {},
     "output_type": "execute_result"
    }
   ],
   "source": [
    "runs[['metrics.tn', 'metrics.fp', 'metrics.fn', 'metrics.tp' ]].mean()"
   ]
  },
  {
   "cell_type": "code",
   "execution_count": 67,
   "id": "dd0aa4d6",
   "metadata": {},
   "outputs": [
    {
     "data": {
      "text/plain": [
       "array([[39.8,  2.6],\n",
       "       [ 2.4, 69. ]])"
      ]
     },
     "execution_count": 67,
     "metadata": {},
     "output_type": "execute_result"
    }
   ],
   "source": [
    "np.array([[39.8, 2.6], [2.4, 69.0]])"
   ]
  },
  {
   "cell_type": "code",
   "execution_count": 59,
   "id": "1c2e37a1",
   "metadata": {},
   "outputs": [
    {
     "data": {
      "text/html": [
       "<div>\n",
       "<style scoped>\n",
       "    .dataframe tbody tr th:only-of-type {\n",
       "        vertical-align: middle;\n",
       "    }\n",
       "\n",
       "    .dataframe tbody tr th {\n",
       "        vertical-align: top;\n",
       "    }\n",
       "\n",
       "    .dataframe thead th {\n",
       "        text-align: right;\n",
       "    }\n",
       "</style>\n",
       "<table border=\"1\" class=\"dataframe\">\n",
       "  <thead>\n",
       "    <tr style=\"text-align: right;\">\n",
       "      <th></th>\n",
       "      <th>metrics.tn_normalized</th>\n",
       "      <th>metrics.fp_normalized</th>\n",
       "      <th>metrics.fn_normalized</th>\n",
       "      <th>metrics.tp_normalized</th>\n",
       "    </tr>\n",
       "  </thead>\n",
       "  <tbody>\n",
       "    <tr>\n",
       "      <th>0</th>\n",
       "      <td>0.952381</td>\n",
       "      <td>0.047619</td>\n",
       "      <td>0.014085</td>\n",
       "      <td>0.985915</td>\n",
       "    </tr>\n",
       "    <tr>\n",
       "      <th>1</th>\n",
       "      <td>1.000000</td>\n",
       "      <td>0.000000</td>\n",
       "      <td>0.083333</td>\n",
       "      <td>0.916667</td>\n",
       "    </tr>\n",
       "    <tr>\n",
       "      <th>2</th>\n",
       "      <td>0.904762</td>\n",
       "      <td>0.095238</td>\n",
       "      <td>0.013889</td>\n",
       "      <td>0.986111</td>\n",
       "    </tr>\n",
       "    <tr>\n",
       "      <th>3</th>\n",
       "      <td>0.860465</td>\n",
       "      <td>0.139535</td>\n",
       "      <td>0.014085</td>\n",
       "      <td>0.985915</td>\n",
       "    </tr>\n",
       "    <tr>\n",
       "      <th>4</th>\n",
       "      <td>0.976744</td>\n",
       "      <td>0.023256</td>\n",
       "      <td>0.042254</td>\n",
       "      <td>0.957746</td>\n",
       "    </tr>\n",
       "  </tbody>\n",
       "</table>\n",
       "</div>"
      ],
      "text/plain": [
       "   metrics.tn_normalized  metrics.fp_normalized  metrics.fn_normalized  \\\n",
       "0               0.952381               0.047619               0.014085   \n",
       "1               1.000000               0.000000               0.083333   \n",
       "2               0.904762               0.095238               0.013889   \n",
       "3               0.860465               0.139535               0.014085   \n",
       "4               0.976744               0.023256               0.042254   \n",
       "\n",
       "   metrics.tp_normalized  \n",
       "0               0.985915  \n",
       "1               0.916667  \n",
       "2               0.986111  \n",
       "3               0.985915  \n",
       "4               0.957746  "
      ]
     },
     "execution_count": 59,
     "metadata": {},
     "output_type": "execute_result"
    }
   ],
   "source": [
    "runs[['metrics.tn_normalized', 'metrics.fp_normalized', 'metrics.fn_normalized', 'metrics.tp_normalized' ]]"
   ]
  },
  {
   "cell_type": "code",
   "execution_count": 60,
   "id": "20ed940d",
   "metadata": {},
   "outputs": [
    {
     "data": {
      "text/plain": [
       "metrics.tn_normalized    0.938870\n",
       "metrics.fp_normalized    0.061130\n",
       "metrics.fn_normalized    0.033529\n",
       "metrics.tp_normalized    0.966471\n",
       "dtype: float64"
      ]
     },
     "execution_count": 60,
     "metadata": {},
     "output_type": "execute_result"
    }
   ],
   "source": [
    "runs[['metrics.tn_normalized', 'metrics.fp_normalized', 'metrics.fn_normalized', 'metrics.tp_normalized' ]].mean()"
   ]
  },
  {
   "cell_type": "code",
   "execution_count": 65,
   "id": "0eff4076",
   "metadata": {},
   "outputs": [
    {
     "data": {
      "text/plain": [
       "array([[0.93887 , 0.06113 ],\n",
       "       [0.033529, 0.966471]])"
      ]
     },
     "execution_count": 65,
     "metadata": {},
     "output_type": "execute_result"
    }
   ],
   "source": [
    "np.array([[0.938870, 0.061130], [0.033529, 0.966471]])"
   ]
  }
 ],
 "metadata": {
  "kernelspec": {
   "display_name": "Python 3 (ipykernel)",
   "language": "python",
   "name": "python3"
  },
  "language_info": {
   "codemirror_mode": {
    "name": "ipython",
    "version": 3
   },
   "file_extension": ".py",
   "mimetype": "text/x-python",
   "name": "python",
   "nbconvert_exporter": "python",
   "pygments_lexer": "ipython3",
   "version": "3.9.13"
  }
 },
 "nbformat": 4,
 "nbformat_minor": 5
}
