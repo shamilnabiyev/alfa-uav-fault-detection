{
 "cells": [
  {
   "cell_type": "markdown",
   "id": "de1c41db",
   "metadata": {},
   "source": [
    "# Pre-processing of the ALFA dataset"
   ]
  },
  {
   "cell_type": "markdown",
   "id": "45389816",
   "metadata": {},
   "source": [
    "Reference:\n",
    "\n",
    "Keipour, A., Mousaei, M., & Scherer, S. (2021). Alfa: A dataset for uav fault and anomaly detection. The International Journal of Robotics Research, 40(2-3), 515-520.\n",
    "        "
   ]
  },
  {
   "cell_type": "markdown",
   "id": "c584d3f1",
   "metadata": {},
   "source": [
    "Dataset source: \n",
    "\n",
    "[ALFA: A Dataset for UAV Fault and Anomaly Detection](https://kilthub.cmu.edu/articles/dataset/ALFA_A_Dataset_for_UAV_Fault_and_Anomaly_Detection/12707963)"
   ]
  },
  {
   "cell_type": "markdown",
   "id": "a3dbe2fa",
   "metadata": {},
   "source": [
    "## Short description of some useful topics (signals)"
   ]
  },
  {
   "cell_type": "markdown",
   "id": "f2b6712a",
   "metadata": {},
   "source": [
    "Topics (Signals):\n",
    "\n",
    "* mavros-time_reference:\n",
    "    * stamp is system time for which measurement was valid\n",
    "    * time_ref corresponding time from this external source\n",
    "    * frame_id is not used\n",
    "* mavros-imu-atm_pressure:\n",
    "    * Air pressure (Atmospheric pressure)\n",
    "    * fluid_pressure is absolute pressure reading in Pascals\n",
    "* ~mavros_battery~:\n",
    "    * Variance is 0\n",
    "    * Not relevant\n",
    "* ~mavros-global_position-*~:\n",
    "    * Not relevant\n",
    "* mavros-imu-data:\n",
    "    * This is a message to hold data from an IMU (Inertial Measurement Unit)\n",
    "    * orientation x, y, z\n",
    "    * ~orientation_covariance, angular_velocity_covariance and linear_acceleration_covariance are not relevant~\n",
    "* ~mavros-imu-mag~:\n",
    "    * FCU compass data \n",
    "    * Not relevant\n",
    "* mavros-imu-temperature:\n",
    "    * Temperature reported by FCU (usually from barometer)\n",
    "* mavros-vfr_hud:\n",
    "    * HUD: Head-up Display\n",
    "    * std_msgs/Header header\n",
    "    * float32 airspeed # m/s\n",
    "    * float32 groundspeed # m/s\n",
    "    * int16 heading # degrees 0..360\n",
    "    * float32 throttle # normalized to 0.0..1.0\n",
    "    * float32 altitude # MSL (Mean Sea Level) \n",
    "    * float32 climb # current climb rate m/s\n",
    "* mavros-wind_estimation\n",
    "    * linear x, y, z\n",
    "   \n",
    "Flights with an engine failure:\n",
    "\n",
    "* Min flight duration: 62.0 sec.\n",
    "* Mean of flight durations: 114.4 sec.\n",
    "* Median of flight durations: 116.0 sec.\n",
    "* Max flight duration: 156.0 sec.\n",
    "\n",
    "Flights without a failure:\n",
    "\n",
    "* Min flight duration: 26.0 sec.\n",
    "* Mean of flight durations: 55.3 sec.\n",
    "* Median of flight durations: 57.0 sec.\n",
    "* Max flight duration: 89.0 sec."
   ]
  },
  {
   "cell_type": "markdown",
   "id": "c679155d",
   "metadata": {},
   "source": [
    "## Read and process the dataset"
   ]
  },
  {
   "cell_type": "code",
   "execution_count": 1,
   "id": "a25ab136",
   "metadata": {},
   "outputs": [],
   "source": [
    "import os\n",
    "import dill\n",
    "import numpy as np\n",
    "import pandas as pd\n",
    "import seaborn as sns\n",
    "from glob import glob\n",
    "import matplotlib.pyplot as plt\n",
    "from sklearn.feature_selection import VarianceThreshold"
   ]
  },
  {
   "cell_type": "code",
   "execution_count": 11,
   "id": "59c3fd56",
   "metadata": {},
   "outputs": [],
   "source": [
    "data_path = \"data/processed/\"\n",
    "prefix = \"carbonZ_2018-07-18-15-53-31_1_engine_failure\"\n",
    "failure1_path = prefix + \"/\"\n",
    "time_column = \"%time\"\n",
    "timestamp_column = \"timestamp\""
   ]
  },
  {
   "cell_type": "code",
   "execution_count": 12,
   "id": "d9a276d6",
   "metadata": {},
   "outputs": [],
   "source": [
    "def read_data(full_path):\n",
    "    timestamp_column = \"timestamp\"\n",
    "    df_tmp = pd.read_csv(full_path)\n",
    "    df_tmp = df_tmp.rename(columns={time_column: timestamp_column})\n",
    "\n",
    "    df_tmp[timestamp_column] = pd.to_datetime(df_tmp[timestamp_column], unit=\"ns\")\n",
    "    df_tmp.set_index(timestamp_column, inplace=True)\n",
    "    return df_tmp"
   ]
  },
  {
   "cell_type": "code",
   "execution_count": 171,
   "id": "f4d06266",
   "metadata": {},
   "outputs": [],
   "source": [
    "def extract_topic_name(flight_name, file_name):\n",
    "    topic_name = file_name.split(flight_name)\n",
    "    topic_name = topic_name[1]\n",
    "    topic_name = topic_name[1:]\n",
    "    topic_name = topic_name.split(\".csv\")\n",
    "    topic_name = topic_name[0] \n",
    "    return topic_name"
   ]
  },
  {
   "cell_type": "code",
   "execution_count": 245,
   "id": "6ffb4e43",
   "metadata": {},
   "outputs": [
    {
     "name": "stdout",
     "output_type": "stream",
     "text": [
      "carbonZ_2018-07-18-15-53-31_1_engine_failure\n",
      "carbonZ_2018-07-18-15-53-31_2_engine_failure\n",
      "carbonZ_2018-07-18-16-22-01_engine_failure_with_emr_traj\n",
      "carbonZ_2018-07-18-16-37-39_1_no_failure\n",
      "carbonZ_2018-07-18-16-37-39_2_engine_failure_with_emr_traj\n",
      "carbonZ_2018-07-30-16-29-45_engine_failure_with_emr_traj\n",
      "carbonZ_2018-07-30-16-39-00_1_engine_failure\n",
      "carbonZ_2018-07-30-16-39-00_2_engine_failure\n",
      "carbonZ_2018-07-30-16-39-00_3_no_failure\n",
      "carbonZ_2018-07-30-17-10-45_engine_failure_with_emr_traj\n",
      "carbonZ_2018-07-30-17-20-01_engine_failure_with_emr_traj\n",
      "carbonZ_2018-07-30-17-36-35_engine_failure_with_emr_traj\n",
      "carbonZ_2018-07-30-17-46-31_engine_failure_with_emr_traj\n",
      "carbonZ_2018-09-11-11-56-30_engine_failure\n",
      "carbonZ_2018-09-11-14-16-55_no_failure\n",
      "carbonZ_2018-09-11-14-22-07_1_engine_failure\n",
      "carbonZ_2018-09-11-14-22-07_2_engine_failure\n",
      "carbonZ_2018-09-11-14-41-38_no_failure\n",
      "carbonZ_2018-09-11-15-05-11_2_no_failure\n",
      "carbonZ_2018-10-05-14-34-20_1_no_failure\n",
      "carbonZ_2018-10-05-14-37-22_1_no_failure\n",
      "carbonZ_2018-10-05-15-52-12_1_no_failure\n",
      "carbonZ_2018-10-05-15-52-12_2_no_failure\n",
      "carbonZ_2018-10-05-15-52-12_3_engine_failure_with_emr_traj\n",
      "carbonZ_2018-10-05-15-55-10_engine_failure_with_emr_traj\n",
      "carbonZ_2018-10-05-16-04-46_engine_failure_with_emr_traj\n",
      "carbonZ_2018-10-18-11-03-57_engine_failure_with_emr_traj\n",
      "carbonZ_2018-10-18-11-04-00_engine_failure_with_emr_traj\n",
      "carbonZ_2018-10-18-11-04-08_1_engine_failure_with_emr_traj\n",
      "carbonZ_2018-10-18-11-04-08_2_engine_failure_with_emr_traj\n",
      "carbonZ_2018-10-18-11-04-35_engine_failure_with_emr_traj\n",
      "carbonZ_2018-10-18-11-06-06_engine_failure_with_emr_traj\n",
      "carbonZ_2018-10-18-11-08-24_no_failure\n"
     ]
    }
   ],
   "source": [
    "time_dict = {}\n",
    "flight_topic_dict = {}\n",
    "topic_list = []\n",
    "all_columns = []\n",
    "df_dict = {}\n",
    "\n",
    "\n",
    "\n",
    "unused_flight_list = [\"no_ground_truth\", \"aileron_failure\", \n",
    "                      \"rudder\", \"elevator\", \"aileron\"]\n",
    "unused_topic_list = [\"mavlink\",  \"diagnostics\", \"failure_status\", \n",
    "                     \"global_position\", \"local_position\", \n",
    "                     \"setpoint_raw\", \"mavctrl-path_dev\", \n",
    "                     \"mavros-battery\", \"mavros-imu-mag\", \n",
    "                     \"mavros-imu-data\", \"mavros-rc\", \n",
    "                     \"mavros-time_reference\", \"mavros-state\", \n",
    "                     \"emergency_responder-traj_file\", \n",
    "                     \"mavctrl-rpy\", \"mavros-mission-reached\"]\n",
    "unused_columns = ['field.header.seq', 'field.header.stamp', \n",
    "                  'field.header.frame_id', 'field.commanded', \n",
    "                  'field.variance', 'field.twist.angular.x', \n",
    "                  'field.twist.angular.y', 'field.twist.angular.z', \n",
    "                  'field.coordinate_frame']\n",
    "\n",
    "# Iterate over the list of flight names\n",
    "for i, flight in enumerate(glob(os.path.join(data_path + \"*\"))):\n",
    "    if any(x in flight for x in unused_flight_list):\n",
    "        continue\n",
    "    \n",
    "    flight_name = os.path.basename(flight)\n",
    "    \n",
    "    print(flight_name)\n",
    "    \n",
    "    if flight_name not in time_dict:\n",
    "        time_dict[flight_name] = []\n",
    "\n",
    "    \n",
    "    if flight_name not in flight_topic_dict:\n",
    "        flight_topic_dict[flight_name] = []\n",
    "    \n",
    "    df_merged = None\n",
    "    \n",
    "    # Iterate over the list of topics\n",
    "    for k, topic in enumerate(glob(flight + \"/*.csv\")):\n",
    "        if any(x in topic for x in unused_topic_list):\n",
    "            continue\n",
    "        \n",
    "        file_name = os.path.basename(topic)\n",
    "        topic_list.append(file_name)\n",
    "        topic_name = extract_topic_name(flight_name, file_name)\n",
    "        flight_topic_dict[flight_name].append(topic_name)\n",
    "        \n",
    "        dfx = read_data(topic)\n",
    "        dfx = dfx.drop(unused_columns, axis=1, errors=\"ignore\")\n",
    "        new_columns = list(map(lambda x: f\"{topic_name}.{x.replace('field.', '')}\", dfx.columns))\n",
    "        dfx = dfx.set_axis(new_columns, axis=1, inplace=False)\n",
    "        # Resample the dataset to 5Hz frequency \n",
    "        dfx = dfx.resample(\"200ms\").last()\n",
    "        \n",
    "        if df_merged is None:\n",
    "            df_merged = dfx\n",
    "        else:\n",
    "            df_merged = df_merged.merge(dfx, left_index=True, right_index=True, how=\"outer\")\n",
    "        \n",
    "        df_merged.iloc[0] = df_merged.iloc[0].fillna(0)\n",
    "        df_merged = df_merged.pad()\n",
    "\n",
    "        all_columns.append(list(dfx.columns))\n",
    "        \n",
    "        diff_seconds = pd.to_timedelta((dfx.index[-1] - dfx.index[0])).total_seconds()\n",
    "        diff_seconds = int(diff_seconds)\n",
    "        time_dict[flight_name].append(diff_seconds)\n",
    "    \n",
    "    df_dict[flight_name] = df_merged"
   ]
  },
  {
   "cell_type": "markdown",
   "id": "816b9b16",
   "metadata": {},
   "source": [
    "### Save the preprocessed data"
   ]
  },
  {
   "cell_type": "code",
   "execution_count": null,
   "id": "99d905a6",
   "metadata": {},
   "outputs": [],
   "source": [
    "with open(os.path.join(\"data\", \"df_dict.pkl\"), \"wb\") as f:\n",
    "    dill.dump(df_dict, f)"
   ]
  },
  {
   "cell_type": "markdown",
   "id": "82745171",
   "metadata": {},
   "source": [
    "### Load the preprocessed data"
   ]
  },
  {
   "cell_type": "code",
   "execution_count": null,
   "id": "5afc3d4c",
   "metadata": {},
   "outputs": [],
   "source": [
    "with open(os.path.join(\"data\", \"df_dict.pkl\"), 'rb') as f:\n",
    "    df_dict_loaded = dill.load(f)"
   ]
  }
 ],
 "metadata": {
  "kernelspec": {
   "display_name": "Python 3 (ipykernel)",
   "language": "python",
   "name": "python3"
  },
  "language_info": {
   "codemirror_mode": {
    "name": "ipython",
    "version": 3
   },
   "file_extension": ".py",
   "mimetype": "text/x-python",
   "name": "python",
   "nbconvert_exporter": "python",
   "pygments_lexer": "ipython3",
   "version": "3.9.13"
  }
 },
 "nbformat": 4,
 "nbformat_minor": 5
}
