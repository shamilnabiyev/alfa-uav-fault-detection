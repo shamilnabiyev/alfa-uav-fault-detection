{
 "cells": [
  {
   "cell_type": "code",
   "execution_count": null,
   "id": "1c6b51e3",
   "metadata": {},
   "outputs": [],
   "source": [
    "import numpy as np\n",
    "import pandas as pd\n",
    "from sklearn.linear_model import RidgeClassifierCV\n",
    "from sktime.transformations.panel.rocket import MiniRocketMultivariate\n",
    "from sktime.datasets import load_from_tsfile"
   ]
  },
  {
   "cell_type": "code",
   "execution_count": null,
   "id": "f07830a0",
   "metadata": {},
   "outputs": [],
   "source": [
    "X, y = load_from_tsfile(\"data/alfa-uav-fault-detection-scaled-12-channels.ts\", return_data_type='numpy3D')"
   ]
  },
  {
   "cell_type": "code",
   "execution_count": null,
   "id": "9bbe7ec4",
   "metadata": {},
   "outputs": [],
   "source": [
    "X.shape"
   ]
  },
  {
   "cell_type": "code",
   "execution_count": null,
   "id": "6af36263",
   "metadata": {},
   "outputs": [],
   "source": [
    "%%time\n",
    "\n",
    "minirocket_multi = MiniRocketMultivariate()\n",
    "minirocket_multi.fit(X)\n",
    "X_train_transform = minirocket_multi.transform(X)"
   ]
  },
  {
   "cell_type": "code",
   "execution_count": null,
   "id": "8b78242f",
   "metadata": {},
   "outputs": [],
   "source": [
    "X_train_transform.shape"
   ]
  },
  {
   "cell_type": "code",
   "execution_count": null,
   "id": "1a6d8a61",
   "metadata": {},
   "outputs": [],
   "source": [
    "X[0][np.newaxis,:].shape"
   ]
  },
  {
   "cell_type": "code",
   "execution_count": null,
   "id": "2c011810",
   "metadata": {},
   "outputs": [],
   "source": [
    "%%time\n",
    "\n",
    "X_train_transform = []\n",
    "\n",
    "for i in range(X.shape[0]):\n",
    "    minirocket_multi = MiniRocketMultivariate()\n",
    "    minirocket_multi.fit(X[i][np.newaxis,:])\n",
    "    X_train_transform.append(minirocket_multi.transform(X[i][np.newaxis,:]))"
   ]
  },
  {
   "cell_type": "code",
   "execution_count": null,
   "id": "da7b5f28",
   "metadata": {},
   "outputs": [],
   "source": [
    "%%time\n",
    "\n",
    "X_train_transform = np.array(X_train_transform)\n",
    "X_train_transform.shape"
   ]
  },
  {
   "cell_type": "code",
   "execution_count": null,
   "id": "376e47ed",
   "metadata": {},
   "outputs": [],
   "source": []
  }
 ],
 "metadata": {
  "kernelspec": {
   "display_name": "Python 3 (ipykernel)",
   "language": "python",
   "name": "python3"
  },
  "language_info": {
   "codemirror_mode": {
    "name": "ipython",
    "version": 3
   },
   "file_extension": ".py",
   "mimetype": "text/x-python",
   "name": "python",
   "nbconvert_exporter": "python",
   "pygments_lexer": "ipython3",
   "version": "3.9.13"
  }
 },
 "nbformat": 4,
 "nbformat_minor": 5
}
